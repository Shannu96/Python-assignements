{
 "cells": [
  {
   "cell_type": "markdown",
   "id": "2995ae6f",
   "metadata": {},
   "source": [
    "Create a list of 10 elements of four different data types like int, string, complex and float."
   ]
  },
  {
   "cell_type": "code",
   "execution_count": 7,
   "id": "43079e71",
   "metadata": {},
   "outputs": [
    {
     "name": "stdout",
     "output_type": "stream",
     "text": [
      "[1, 3.5, 4.6, (7+8j), (1+2j), 'hello', 'world', 100, 200.65]\n"
     ]
    }
   ],
   "source": [
    "list = [1, 3.5, 4.6, 7+8j, 1+2j,\"hello\", \"world\", 100, 200.65 ]\n",
    "\n",
    "print(list)"
   ]
  },
  {
   "cell_type": "markdown",
   "id": "ec36c488",
   "metadata": {},
   "source": [
    "Create a list of size 5 and execute the slicing structure"
   ]
  },
  {
   "cell_type": "code",
   "execution_count": 6,
   "id": "4bbe1f49",
   "metadata": {},
   "outputs": [
    {
     "name": "stdout",
     "output_type": "stream",
     "text": [
      "['v', 'w', 'x', 'y', 'z']\n"
     ]
    }
   ],
   "source": [
    "lst = ['z', 'y','x','w','v']\n",
    "\n",
    "print(lst[::-1])"
   ]
  },
  {
   "cell_type": "markdown",
   "id": "8dc2755f",
   "metadata": {},
   "source": [
    "Write a program to get the sum and multiply of all the items in a given list."
   ]
  },
  {
   "cell_type": "code",
   "execution_count": 10,
   "id": "d9ddb754",
   "metadata": {},
   "outputs": [
    {
     "name": "stdout",
     "output_type": "stream",
     "text": [
      "9.1\n",
      "16.099999999999998\n"
     ]
    }
   ],
   "source": [
    "import math\n",
    "\n",
    "lst = [1, 3.5, 4.6]\n",
    "Sum = sum(lst)\n",
    "Product = math.prod(lst)\n",
    "\n",
    "print(Sum)\n",
    "print(Product)"
   ]
  },
  {
   "cell_type": "markdown",
   "id": "35b333e5",
   "metadata": {},
   "source": [
    "Find the largest and smallest number from a given list."
   ]
  },
  {
   "cell_type": "code",
   "execution_count": 13,
   "id": "3321f1b7",
   "metadata": {},
   "outputs": [
    {
     "name": "stdout",
     "output_type": "stream",
     "text": [
      "10000\n",
      "100\n"
     ]
    }
   ],
   "source": [
    "lst = [1600, 100, 496,798,395,800,223,5066,7987, 10000, 9567]\n",
    "Largenum = max(lst)\n",
    "Smallnum= min(lst)\n",
    "\n",
    "print(Largenum)\n",
    "print(Smallnum)"
   ]
  },
  {
   "cell_type": "markdown",
   "id": "b58c03b6",
   "metadata": {},
   "source": [
    "Create a new list which contains the specified numbers after removing the even numbers from a\n",
    "predefined list."
   ]
  },
  {
   "cell_type": "code",
   "execution_count": 19,
   "id": "1c08dc16",
   "metadata": {},
   "outputs": [
    {
     "name": "stdout",
     "output_type": "stream",
     "text": [
      "[5, 89, 19]\n"
     ]
    }
   ],
   "source": [
    "lst = [2,5,6,8,34,89,19,40,60]\n",
    "newlst = []\n",
    "for i in (lst):\n",
    "    if(i % 2 != 0):\n",
    "       newlst.append(i)\n",
    "print(newlst)\n"
   ]
  },
  {
   "cell_type": "markdown",
   "id": "d462a22c",
   "metadata": {},
   "source": [
    "Create a list of elements such that it contains the squares of the first and last 5 elements between\n",
    "1 and30 (both included)."
   ]
  },
  {
   "cell_type": "code",
   "execution_count": 37,
   "id": "2dfae774",
   "metadata": {},
   "outputs": [
    {
     "name": "stdout",
     "output_type": "stream",
     "text": [
      "[1, 4, 9, 16, 25]\n",
      "[676, 729, 784, 841, 900]\n"
     ]
    }
   ],
   "source": [
    "def printValues():\n",
    "    lst =[]\n",
    "    for i in range(1,31):\n",
    "        lst.append(i**2)\n",
    "    print(lst[:5])\n",
    "    print(lst[-5:])\n",
    "\n",
    "printValues()\n"
   ]
  },
  {
   "cell_type": "markdown",
   "id": "8f68fa8d",
   "metadata": {},
   "source": [
    "7. Write a program to replace the last element in a list with another list.\n",
    "Sample input: [1,3,5,7,9,10], [2,4,6,8]\n",
    "Expected output: [1,3,5,7,9,2,4,6,8]"
   ]
  },
  {
   "cell_type": "code",
   "execution_count": 26,
   "id": "54dd650e",
   "metadata": {},
   "outputs": [
    {
     "name": "stdout",
     "output_type": "stream",
     "text": [
      "[1, 3, 5, 7, 9, 2, 4, 6, 8]\n"
     ]
    }
   ],
   "source": [
    "lst = [1,3,5,7,9,10]\n",
    "lst[-1:] = [2,4,6,8]\n",
    "\n",
    "print(lst)"
   ]
  },
  {
   "cell_type": "markdown",
   "id": "a8b343de",
   "metadata": {},
   "source": [
    "8. Create a new dictionary by concatenating the following two dictionaries:\n",
    "Sample input: a={1:10,2:20} b={3:30,4:40}\n",
    "Expected output: {1:10,2:20,3:30,4:40}"
   ]
  },
  {
   "cell_type": "code",
   "execution_count": 28,
   "id": "efd8f98e",
   "metadata": {},
   "outputs": [
    {
     "name": "stdout",
     "output_type": "stream",
     "text": [
      "{1: 10, 2: 20, 3: 30, 4: 40}\n"
     ]
    }
   ],
   "source": [
    "a={1:10,2:20} \n",
    "b={3:30,4:40}\n",
    "\n",
    "new_dict = {**a , **b}\n",
    "print(new_dict)"
   ]
  },
  {
   "cell_type": "markdown",
   "id": "f45ede5d",
   "metadata": {},
   "source": [
    "Create a dictionary that contain numbers in the form(x:x*x) where x takes all the values between 1\n",
    "and n(both 1 and n included).\n",
    "Sample input: n=5\n",
    "Expected output: {1:1, 2:4, 3:9, 4:16, 5:25}"
   ]
  },
  {
   "cell_type": "code",
   "execution_count": 35,
   "id": "98cd9615",
   "metadata": {},
   "outputs": [
    {
     "name": "stdout",
     "output_type": "stream",
     "text": [
      "Input a number 5\n",
      "{1: 1, 2: 4, 3: 9, 4: 16, 5: 25}\n"
     ]
    }
   ],
   "source": [
    "n=int(input(\"Input a number \"))\n",
    "dict = {}\n",
    "\n",
    "for x in range(1,n+1):\n",
    "    dict[x]=x*x\n",
    "\n",
    "print(dict) \n"
   ]
  },
  {
   "cell_type": "markdown",
   "id": "f3af4939",
   "metadata": {},
   "source": [
    "10. Write a program which accepts a sequence of comma-separated numbers from console and\n",
    "generates a list and a tuple which contains every number in the form of string.\n",
    "Sample input: 34,67,55,33,12,98\n",
    "Expected output: [‘34’,’67’,’55’,’33’,’12’,’98’] (‘34’,’67’,’55’,’33’,’12’,’98’)"
   ]
  },
  {
   "cell_type": "code",
   "execution_count": 36,
   "id": "2294caad",
   "metadata": {},
   "outputs": [
    {
     "name": "stdout",
     "output_type": "stream",
     "text": [
      "Sequence of comma separated numbers : 5,6,7,3,8,9,\n",
      "['5', '6', '7', '3', '8', '9', '']\n",
      "('5', '6', '7', '3', '8', '9', '')\n"
     ]
    }
   ],
   "source": [
    "numbers = input(\"Sequence of comma separated numbers : \")\n",
    "list = numbers.split(\",\")\n",
    "tuple = tuple(list)\n",
    "print(list)\n",
    "print(tuple)\n"
   ]
  }
 ],
 "metadata": {
  "kernelspec": {
   "display_name": "Python 3",
   "language": "python",
   "name": "python3"
  },
  "language_info": {
   "codemirror_mode": {
    "name": "ipython",
    "version": 3
   },
   "file_extension": ".py",
   "mimetype": "text/x-python",
   "name": "python",
   "nbconvert_exporter": "python",
   "pygments_lexer": "ipython3",
   "version": "3.8.8"
  }
 },
 "nbformat": 4,
 "nbformat_minor": 5
}
