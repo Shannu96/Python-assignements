{
 "cells": [
  {
   "cell_type": "markdown",
   "id": "05c6c36b",
   "metadata": {},
   "source": [
    "1. Write a program to reverse a string.\n",
    "Sample input: “1234abcd”\n",
    "Expected output: “dcba4321”"
   ]
  },
  {
   "cell_type": "code",
   "execution_count": null,
   "id": "6fab73af",
   "metadata": {},
   "outputs": [],
   "source": [
    "str = input(\"enter the string\")\n",
    "rev = str[::-1]\n",
    "\n",
    "print(rev)"
   ]
  },
  {
   "cell_type": "markdown",
   "id": "c301d6c7",
   "metadata": {},
   "source": [
    "2. Write a function that accepts a string and prints the number of uppercase letters and lowercase\n",
    "letters.\n",
    "Sample input: “abcSdefPghijQkl”\n",
    "Expected Output: No. of Uppercase characters : 3 No. of Lower case Characters : 12"
   ]
  },
  {
   "cell_type": "code",
   "execution_count": null,
   "id": "6dbd2d8d",
   "metadata": {},
   "outputs": [],
   "source": [
    "string=raw_input(\"Enter string:\")\n",
    "count1=0\n",
    "count2=0\n",
    "for i in string:\n",
    "      if(i.islower()):\n",
    "            count1=count1+1\n",
    "      elif(i.isupper()):\n",
    "            count2=count2+1\n",
    "print(\"No. of lowercase characters is:\")\n",
    "print(count1)\n",
    "print(\"No. of uppercase characters is:\")\n",
    "print(count2)"
   ]
  },
  {
   "cell_type": "markdown",
   "id": "7d58b5ea",
   "metadata": {},
   "source": [
    "3. Create a function that takes a list and returns a new list with unique elements of the first list."
   ]
  },
  {
   "cell_type": "code",
   "execution_count": 4,
   "id": "5d8c98f9",
   "metadata": {},
   "outputs": [
    {
     "name": "stdout",
     "output_type": "stream",
     "text": [
      "{2, 67, 3, 4, 5, 7, 8, 66}\n"
     ]
    }
   ],
   "source": [
    "list = [2,3,4,5,2,2,3,4,5,5,4,5,67,8,7,5,66,7,8,4,5]\n",
    "new_list =set(list)\n",
    "\n",
    "print(new_list)"
   ]
  },
  {
   "cell_type": "markdown",
   "id": "96e7ce5c",
   "metadata": {},
   "source": [
    "4. Write a program that accepts a hyphen-separated sequence of words as input and prints the words\n",
    "in a hyphen-separated sequence after sorting them alphabetically."
   ]
  },
  {
   "cell_type": "code",
   "execution_count": 7,
   "id": "edcaf48e",
   "metadata": {},
   "outputs": [
    {
     "name": "stdout",
     "output_type": "stream",
     "text": [
      "hello-gorilla-dental-way-yes\n",
      "dental-gorilla-hello-way-yes\n"
     ]
    }
   ],
   "source": [
    "values=[n for n in input().split('-')]\n",
    "values.sort()\n",
    "print('-'.join(values))"
   ]
  },
  {
   "cell_type": "markdown",
   "id": "9c5a3881",
   "metadata": {},
   "source": [
    "5. Write a program that accepts a sequence of lines as input and prints the lines after making all\n",
    "characters in the sentence capitalized.\n",
    "Sample input: Hello world Practice makes man perfect\n",
    "Expected output: HELLO WORLD PRACTICE MAKES MAN PERFECT"
   ]
  },
  {
   "cell_type": "code",
   "execution_count": null,
   "id": "24e0aa8b",
   "metadata": {},
   "outputs": [],
   "source": [
    "lines = []\n",
    "while True:\n",
    "    l = input()\n",
    "    if l:\n",
    "        lines.append(l.upper())\n",
    "    else:\n",
    "        break;\n",
    "\n",
    "for l in lines:\n",
    "    print(l)"
   ]
  },
  {
   "cell_type": "markdown",
   "id": "972cc884",
   "metadata": {},
   "source": [
    "6. Define a function that can receive two integral numbers in string form and compute their sum and\n",
    "print it in the console."
   ]
  },
  {
   "cell_type": "code",
   "execution_count": null,
   "id": "d77b75d4",
   "metadata": {},
   "outputs": [],
   "source": [
    "def calculateSumFor(first,second):\n",
    "    return int(first) + int(second)\n",
    "\n",
    "firstNumber = \"10\"\n",
    "secondNumber = \"90\"\n",
    "\n",
    "print(calculateSumFor(firstNumber,secondNumber))"
   ]
  },
  {
   "cell_type": "markdown",
   "id": "573aba12",
   "metadata": {},
   "source": [
    "7. Define a function that can accept two strings as input and print the string with the maximum length\n",
    "in the console. If two strings have the same length, then the function should print both the strings line\n",
    "by line."
   ]
  },
  {
   "cell_type": "code",
   "execution_count": 13,
   "id": "37c215a2",
   "metadata": {},
   "outputs": [
    {
     "name": "stdout",
     "output_type": "stream",
     "text": [
      "enter First String: hello\n",
      "enter Second String: hi\n",
      "\n",
      "\n",
      "hello\n"
     ]
    }
   ],
   "source": [
    "def length_of_string(str1, str2):\n",
    "    if (len(str1) == len(str2)):\n",
    "        print(str1)\n",
    "        #print(\"\\n\")\n",
    "        print(str2)\n",
    "\n",
    "    elif (len(str1) < len(str2)):\n",
    "        print(str2)\n",
    "\n",
    "    else:\n",
    "        print(str1)\n",
    "\n",
    "stri1 = input(str(\"enter First String: \"))\n",
    "stri2 = input(str(\"enter Second String: \"))\n",
    "print(\"\\n\")\n",
    "\n",
    "length_of_string(stri1, stri2)"
   ]
  },
  {
   "cell_type": "markdown",
   "id": "cf3bcf88",
   "metadata": {},
   "source": [
    "8. Define a function which can generate and print a tuple where the values are square of numbers\n",
    "between 1 and 20 (both 1 and 20 included)."
   ]
  },
  {
   "cell_type": "code",
   "execution_count": 17,
   "id": "39896538",
   "metadata": {},
   "outputs": [
    {
     "ename": "TypeError",
     "evalue": "'list' object is not callable",
     "output_type": "error",
     "traceback": [
      "\u001b[1;31m---------------------------------------------------------------------------\u001b[0m",
      "\u001b[1;31mTypeError\u001b[0m                                 Traceback (most recent call last)",
      "\u001b[1;32m<ipython-input-17-0599ec605093>\u001b[0m in \u001b[0;36m<module>\u001b[1;34m\u001b[0m\n\u001b[0;32m      8\u001b[0m \u001b[1;33m\u001b[0m\u001b[0m\n\u001b[0;32m      9\u001b[0m \u001b[1;33m\u001b[0m\u001b[0m\n\u001b[1;32m---> 10\u001b[1;33m \u001b[0mprintValues\u001b[0m\u001b[1;33m(\u001b[0m\u001b[1;33m)\u001b[0m\u001b[1;33m\u001b[0m\u001b[1;33m\u001b[0m\u001b[0m\n\u001b[0m",
      "\u001b[1;32m<ipython-input-17-0599ec605093>\u001b[0m in \u001b[0;36mprintValues\u001b[1;34m()\u001b[0m\n\u001b[0;32m      1\u001b[0m \u001b[1;32mdef\u001b[0m \u001b[0mprintValues\u001b[0m\u001b[1;33m(\u001b[0m\u001b[1;33m)\u001b[0m\u001b[1;33m:\u001b[0m\u001b[1;33m\u001b[0m\u001b[1;33m\u001b[0m\u001b[0m\n\u001b[0;32m      2\u001b[0m     \u001b[0mthistuple\u001b[0m \u001b[1;33m=\u001b[0m \u001b[1;33m(\u001b[0m\u001b[1;33m)\u001b[0m\u001b[1;33m\u001b[0m\u001b[1;33m\u001b[0m\u001b[0m\n\u001b[1;32m----> 3\u001b[1;33m     \u001b[0mtup\u001b[0m \u001b[1;33m=\u001b[0m \u001b[0mlist\u001b[0m\u001b[1;33m(\u001b[0m\u001b[0mthistuple\u001b[0m\u001b[1;33m)\u001b[0m\u001b[1;33m\u001b[0m\u001b[1;33m\u001b[0m\u001b[0m\n\u001b[0m\u001b[0;32m      4\u001b[0m     \u001b[1;32mfor\u001b[0m \u001b[0mi\u001b[0m \u001b[1;32min\u001b[0m \u001b[0mrange\u001b[0m\u001b[1;33m(\u001b[0m\u001b[1;36m1\u001b[0m\u001b[1;33m,\u001b[0m\u001b[1;36m21\u001b[0m\u001b[1;33m)\u001b[0m\u001b[1;33m:\u001b[0m\u001b[1;33m\u001b[0m\u001b[1;33m\u001b[0m\u001b[0m\n\u001b[0;32m      5\u001b[0m         \u001b[0mtup\u001b[0m\u001b[1;33m.\u001b[0m\u001b[0mappend\u001b[0m\u001b[1;33m(\u001b[0m\u001b[0mi\u001b[0m\u001b[1;33m**\u001b[0m\u001b[1;36m2\u001b[0m\u001b[1;33m)\u001b[0m\u001b[1;33m\u001b[0m\u001b[1;33m\u001b[0m\u001b[0m\n",
      "\u001b[1;31mTypeError\u001b[0m: 'list' object is not callable"
     ]
    }
   ],
   "source": [
    "def printValues():\n",
    "    thistuple = ()\n",
    "    tup = list(thistuple)\n",
    "    for i in range(1,21):\n",
    "        tup.append(i**2)\n",
    "        thistuple = tuple(tup)\n",
    "    print(thistuple)\n",
    "    \n",
    "\n",
    "printValues()"
   ]
  },
  {
   "cell_type": "code",
   "execution_count": null,
   "id": "c6077bb5",
   "metadata": {},
   "outputs": [],
   "source": [
    "9. Write a function called showNumbers that takes a parameter called limit. It should print all the\n",
    "numbers between 0 and limit with a label to identify the even and odd numbers.\n",
    "Sample input: show Numbers(3) (where limit=3)\n",
    "Expected output:\n",
    "0 EVEN\n",
    "1 ODD\n",
    "2 EVEN\n",
    "3 ODD"
   ]
  },
  {
   "cell_type": "code",
   "execution_count": 20,
   "id": "2e96fe5c",
   "metadata": {},
   "outputs": [
    {
     "name": "stdout",
     "output_type": "stream",
     "text": [
      "0 EVEN\n",
      "1 ODD\n",
      "2 EVEN\n",
      "3 ODD\n"
     ]
    }
   ],
   "source": [
    "def showNumbers(limit):\n",
    "    for i in range(0,limit+1):\n",
    "        if (i % 2 == 0):\n",
    "           print(i , \"EVEN\")\n",
    "        else:\n",
    "           print(i , \"ODD\")\n",
    "\n",
    "showNumbers(3)\n",
    "            \n",
    "    "
   ]
  },
  {
   "cell_type": "markdown",
   "id": "7a31b0c0",
   "metadata": {},
   "source": [
    "10. Write a program which uses filter() to make a list whose elements are even numbers between 1\n",
    "and 20 (both included)"
   ]
  },
  {
   "cell_type": "code",
   "execution_count": 27,
   "id": "65cfcb1c",
   "metadata": {},
   "outputs": [
    {
     "name": "stdout",
     "output_type": "stream",
     "text": [
      "<filter object at 0x000001A79D4C91C0>\n"
     ]
    }
   ],
   "source": [
    "def even(x):\n",
    "    return x%2==0\n",
    "\n",
    "evenNumbers = filter(even, range(1,21))\n",
    "print(list(evenNumbers))"
   ]
  },
  {
   "cell_type": "markdown",
   "id": "bc179bba",
   "metadata": {},
   "source": [
    "11. Write a program which uses map() and filter() to make a list whose elements are squares of even\n",
    "numbers in [1,2,3,4,5,6,7,8,9,10].\n",
    "Hints: Use filter() to filter even elements of the given listUse map() to generate a list of squares of the\n",
    "numbers in the filtered list. Use lambda() to define anonymous functions."
   ]
  },
  {
   "cell_type": "code",
   "execution_count": 29,
   "id": "0587c50e",
   "metadata": {},
   "outputs": [
    {
     "name": "stdout",
     "output_type": "stream",
     "text": [
      "<map object at 0x000001A79D5B8790>\n"
     ]
    }
   ],
   "source": [
    "li = [1,2,3,4,5,6,7,8,9,10]\n",
    "evenNumbers = map(lambda x: x**2, filter(lambda x: x%2==0, li))\n",
    "print(evenNumbers)"
   ]
  },
  {
   "cell_type": "markdown",
   "id": "1f688af7",
   "metadata": {},
   "source": [
    "12. Write a function to compute 5/0 and use try/except to catch the exceptions"
   ]
  },
  {
   "cell_type": "code",
   "execution_count": 30,
   "id": "bd9f3187",
   "metadata": {},
   "outputs": [
    {
     "name": "stdout",
     "output_type": "stream",
     "text": [
      "Sorry ! You are dividing by zero \n"
     ]
    }
   ],
   "source": [
    "# working of try()\n",
    "def divide(x, y):\n",
    "    try:\n",
    "        \n",
    "        result = x / y\n",
    "        print(\"Yeah ! Your answer is :\", result)\n",
    "    except ZeroDivisionError:\n",
    "        print(\"Sorry ! You are dividing by zero \")\n",
    " \n",
    "\n",
    "divide(5,0)"
   ]
  },
  {
   "cell_type": "markdown",
   "id": "79d10fb9",
   "metadata": {},
   "source": [
    "13. Flatten the list [1,2,3,4,5,6,7] into 1234567 using reduce()."
   ]
  },
  {
   "cell_type": "code",
   "execution_count": 31,
   "id": "b1183a78",
   "metadata": {},
   "outputs": [
    {
     "name": "stdout",
     "output_type": "stream",
     "text": [
      "28\n"
     ]
    }
   ],
   "source": [
    "from functools import reduce\n",
    "nlist = [1,2,3,4,5,6,7]\n",
    "flatlist = reduce(lambda a,b:a+b,nlist)\n",
    "print(flatlist)"
   ]
  },
  {
   "cell_type": "markdown",
   "id": "19b692b8",
   "metadata": {},
   "source": [
    "14. Write a program in Python to find the values which are not divisible by 3 but are a multiple of 7.\n",
    "Make sure to use only higher order functions."
   ]
  },
  {
   "cell_type": "code",
   "execution_count": 35,
   "id": "883132f9",
   "metadata": {},
   "outputs": [
    {
     "name": "stdout",
     "output_type": "stream",
     "text": [
      "enter the number30\n",
      "Divisible by 3 and Not Divisible by 7 30\n"
     ]
    }
   ],
   "source": [
    "num = int(input(\"enter the number\"))\n",
    "if (num % 3== 0 and not num % 7== 0):\n",
    "   print(\"Divisible by 3 and Not Divisible by 7\" , num)\n"
   ]
  },
  {
   "cell_type": "markdown",
   "id": "480019d7",
   "metadata": {},
   "source": [
    "15. Write a program in Python to multiply the elements of a list by itself using a traditional function\n",
    "and pass the function to map() to complete the operation."
   ]
  },
  {
   "cell_type": "code",
   "execution_count": 44,
   "id": "8c4b8c14",
   "metadata": {},
   "outputs": [
    {
     "name": "stdout",
     "output_type": "stream",
     "text": [
      "<map object at 0x000001A79D5BEA90>\n"
     ]
    }
   ],
   "source": [
    "numbers = [1, 2, 3, 4]\n",
    "result = map(lambda x: x * x, numbers)\n",
    "print(result)"
   ]
  },
  {
   "cell_type": "markdown",
   "id": "701ec9a5",
   "metadata": {},
   "source": [
    "16. What is the output of the following codes:\n"
   ]
  },
  {
   "cell_type": "code",
   "execution_count": 42,
   "id": "fd495c4e",
   "metadata": {},
   "outputs": [
    {
     "name": "stdout",
     "output_type": "stream",
     "text": [
      "2\n"
     ]
    }
   ],
   "source": [
    "def foo():\n",
    "    try:\n",
    "        return 1\n",
    "    finally:\n",
    "        return 2\n",
    "k = foo()\n",
    "print(k)\n",
    "    \n"
   ]
  },
  {
   "cell_type": "markdown",
   "id": "24f30f95",
   "metadata": {},
   "source": [
    "OUTPUT : 2"
   ]
  },
  {
   "cell_type": "code",
   "execution_count": null,
   "id": "ba9fa05d",
   "metadata": {},
   "outputs": [],
   "source": [
    "def a():\n",
    "    try:\n",
    "        f(x, 4)\n",
    "    finally:\n",
    "        print('after f')\n",
    "        print('after f?')\n",
    "a()"
   ]
  },
  {
   "cell_type": "markdown",
   "id": "474879c6",
   "metadata": {},
   "source": [
    "OUTPUT - after f after f"
   ]
  }
 ],
 "metadata": {
  "kernelspec": {
   "display_name": "Python 3",
   "language": "python",
   "name": "python3"
  },
  "language_info": {
   "codemirror_mode": {
    "name": "ipython",
    "version": 3
   },
   "file_extension": ".py",
   "mimetype": "text/x-python",
   "name": "python",
   "nbconvert_exporter": "python",
   "pygments_lexer": "ipython3",
   "version": "3.8.8"
  }
 },
 "nbformat": 4,
 "nbformat_minor": 5
}
