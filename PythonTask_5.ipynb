{
 "cells": [
  {
   "cell_type": "markdown",
   "id": "d87b8144",
   "metadata": {},
   "source": [
    "1. Write a program in Python to allow the error of syntax to be handled using exception handling.\n",
    "HINT: Use SyntaxError"
   ]
  },
  {
   "cell_type": "code",
   "execution_count": 3,
   "id": "e5c55e42",
   "metadata": {},
   "outputs": [
    {
     "ename": "SyntaxError",
     "evalue": "invalid syntax (<ipython-input-3-e056a79d7031>, line 3)",
     "output_type": "error",
     "traceback": [
      "\u001b[1;36m  File \u001b[1;32m\"<ipython-input-3-e056a79d7031>\"\u001b[1;36m, line \u001b[1;32m3\u001b[0m\n\u001b[1;33m    except SyntaxError, err:\u001b[0m\n\u001b[1;37m                      ^\u001b[0m\n\u001b[1;31mSyntaxError\u001b[0m\u001b[1;31m:\u001b[0m invalid syntax\n"
     ]
    }
   ],
   "source": [
    "\n",
    "try:\n",
    "    print(eval('six times seven'))\n",
    "except SyntaxError, err:\n",
    "    print()'Syntax error %s (%s-%s): %s' % \\\n",
    "    (err.filename, err.lineno, err.offset, err.text))\n",
    "print(err)\n"
   ]
  },
  {
   "cell_type": "markdown",
   "id": "eb7b8083",
   "metadata": {},
   "source": [
    "2. Write a program in Python to allow the user to open a file by using the argv module. If the\n",
    "entered name is incorrect throw an exception and ask them to enter the name again. Make sure\n",
    "to use read only mode."
   ]
  },
  {
   "cell_type": "code",
   "execution_count": null,
   "id": "95f3107d",
   "metadata": {},
   "outputs": [],
   "source": [
    "import sys\n",
    "\n",
    "if len(sys.argv)==2:\n",
    "    \n",
    "    fileName = sys.argv[1]\n",
    "\n",
    "    while True:\n",
    "        try:\n",
    "            fileObj = open(fileName)\n",
    "            print(\"Successfully opened file named\",fileName)\n",
    "            break\n",
    "        except Exception as e:\n",
    "            print(\"Invalid file name\")\n",
    "            fileName = input(\"Enter file name\")\n",
    "else:\n",
    "    print(\"Please provide file name as command line argument"
   ]
  },
  {
   "cell_type": "markdown",
   "id": "723f4eef",
   "metadata": {},
   "source": [
    "3. Write a program to handle an error if the user entered a number more than four digits it should\n",
    "return “The length is too short/long !!! Please provide only four digits”"
   ]
  },
  {
   "cell_type": "code",
   "execution_count": 4,
   "id": "0561fe35",
   "metadata": {},
   "outputs": [
    {
     "name": "stdout",
     "output_type": "stream",
     "text": [
      "Please type in an integer: 10083\n",
      "This input is invalid\n",
      "Please type in an integer: 9997\n",
      "9997\n"
     ]
    }
   ],
   "source": [
    "def digits():\n",
    "    while True:\n",
    "        try:\n",
    "            input_num = input(\"Please type in an integer: \")\n",
    "            number = int(input_num)\n",
    "            if number < 10000:\n",
    "                return number\n",
    "        except ValueError:\n",
    "        print(\"This input is invalid\")\n",
    "\n",
    "number = digits()\n",
    "print(number)"
   ]
  },
  {
   "cell_type": "markdown",
   "id": "04930715",
   "metadata": {},
   "source": [
    "4. Create a login page backend to ask users to enter the username and password. Make sure to\n",
    "ask for a Re-Type Password and if the password is incorrect give chance to enter it again but it\n",
    "should not be more than 3 times."
   ]
  },
  {
   "cell_type": "code",
   "execution_count": 6,
   "id": "f703125f",
   "metadata": {},
   "outputs": [
    {
     "name": "stdout",
     "output_type": "stream",
     "text": [
      "Enter username and password to login\n",
      "Enter username: asdfs\n",
      "Enter password: sdf\n",
      "Access denied. Try again.\n",
      "Enter username: admin\n",
      "Enter password: hello\n",
      "Access granted\n"
     ]
    }
   ],
   "source": [
    "print('Enter username and password to login')\n",
    "count=0\n",
    "while count < 3:\n",
    "    username = input('Enter username: ')\n",
    "    password = input('Enter password: ')\n",
    "    if password=='hello' and username=='admin':\n",
    "        print('Access granted')\n",
    "        break\n",
    "    else:\n",
    "        print('Access denied. Try again.')\n",
    "        count += 1"
   ]
  },
  {
   "cell_type": "markdown",
   "id": "d3098565",
   "metadata": {},
   "source": [
    "5. Go through the link provided below to understand finally and raise concept:\n",
    "https://www.programiz.com/python-programming/exception-handling"
   ]
  },
  {
   "cell_type": "markdown",
   "id": "0506d29e",
   "metadata": {},
   "source": [
    "6. Read doc.txt file using Python File handling concept and return only the even length string from\n",
    "the file. Consider the content of doc.txt as given below:\n",
    "Hello I am a file\n",
    "Where you need to return the data string\n",
    "Which is of even length\n",
    "Make sure you return the content in The same link as it is present."
   ]
  },
  {
   "cell_type": "code",
   "execution_count": 7,
   "id": "1de957ec",
   "metadata": {},
   "outputs": [],
   "source": [
    "file = open(\"myfile.txt\",\"w\")\n",
    "L = [\"Hello I am a file \\n\",\"Where you need to return the data string \\n\",\n",
    "     \"Which is of even length \\n\",\"Make sure you return the content in The same link as it is present\\n\"]\n",
    "file.writelines(L)\n",
    "file.close()\n",
    "\n"
   ]
  },
  {
   "cell_type": "code",
   "execution_count": 9,
   "id": "2ea29c4c",
   "metadata": {},
   "outputs": [
    {
     "ename": "AttributeError",
     "evalue": "'_io.TextIOWrapper' object has no attribute 'split'",
     "output_type": "error",
     "traceback": [
      "\u001b[1;31m---------------------------------------------------------------------------\u001b[0m",
      "\u001b[1;31mAttributeError\u001b[0m                            Traceback (most recent call last)",
      "\u001b[1;32m<ipython-input-9-4dfc637e6a3d>\u001b[0m in \u001b[0;36m<module>\u001b[1;34m\u001b[0m\n\u001b[0;32m      1\u001b[0m \u001b[0myour_file\u001b[0m \u001b[1;33m=\u001b[0m \u001b[0mopen\u001b[0m\u001b[1;33m(\u001b[0m\u001b[1;34m\"myfile.txt\"\u001b[0m\u001b[1;33m,\u001b[0m\u001b[1;34m\"r+\"\u001b[0m\u001b[1;33m)\u001b[0m\u001b[1;33m\u001b[0m\u001b[1;33m\u001b[0m\u001b[0m\n\u001b[0;32m      2\u001b[0m \u001b[0mtext\u001b[0m \u001b[1;33m=\u001b[0m \u001b[0myour_file\u001b[0m\u001b[1;33m.\u001b[0m\u001b[0mread\u001b[0m\u001b[1;33m\u001b[0m\u001b[1;33m\u001b[0m\u001b[0m\n\u001b[1;32m----> 3\u001b[1;33m \u001b[0mlines\u001b[0m \u001b[1;33m=\u001b[0m \u001b[0myour_file\u001b[0m\u001b[1;33m.\u001b[0m\u001b[0msplit\u001b[0m\u001b[1;33m(\u001b[0m\u001b[1;34m\"\\n\"\u001b[0m\u001b[1;33m)\u001b[0m\u001b[1;33m\u001b[0m\u001b[1;33m\u001b[0m\u001b[0m\n\u001b[0m\u001b[0;32m      4\u001b[0m \u001b[0mwords\u001b[0m \u001b[1;33m=\u001b[0m \u001b[1;33m[\u001b[0m\u001b[1;33m]\u001b[0m\u001b[1;33m\u001b[0m\u001b[1;33m\u001b[0m\u001b[0m\n\u001b[0;32m      5\u001b[0m \u001b[0meven_words\u001b[0m \u001b[1;33m=\u001b[0m \u001b[1;33m[\u001b[0m\u001b[1;33m]\u001b[0m\u001b[1;33m\u001b[0m\u001b[1;33m\u001b[0m\u001b[0m\n",
      "\u001b[1;31mAttributeError\u001b[0m: '_io.TextIOWrapper' object has no attribute 'split'"
     ]
    }
   ],
   "source": [
    "your_file = open(\"myfile.txt\",\"r+\")\n",
    "text = your_file.read\n",
    "lines = text.split(\"\\n\")\n",
    "words = []\n",
    "even_words = []\n",
    "for each in lines:\n",
    "     words += each.split(\" \")\n",
    "for each in words:\n",
    "     if len(each) % 2 == 0:\n",
    "        even_words.append(each)\n",
    "\n",
    "number_of_evenlwords = len(even_words)\n",
    "print(even_words)\n",
    "print(\"There are \"+str(number_of_evenlwords)+\" words\")"
   ]
  },
  {
   "cell_type": "code",
   "execution_count": null,
   "id": "0b3fb5ed",
   "metadata": {},
   "outputs": [],
   "source": []
  }
 ],
 "metadata": {
  "kernelspec": {
   "display_name": "Python 3",
   "language": "python",
   "name": "python3"
  },
  "language_info": {
   "codemirror_mode": {
    "name": "ipython",
    "version": 3
   },
   "file_extension": ".py",
   "mimetype": "text/x-python",
   "name": "python",
   "nbconvert_exporter": "python",
   "pygments_lexer": "ipython3",
   "version": "3.8.8"
  }
 },
 "nbformat": 4,
 "nbformat_minor": 5
}
