{
 "cells": [
  {
   "cell_type": "markdown",
   "id": "d9b4e24e",
   "metadata": {},
   "source": [
    "1. Write a program in Python to find out the character in a string which is uppercase using list\n",
    "comprehension."
   ]
  },
  {
   "cell_type": "code",
   "execution_count": 6,
   "id": "5f7ba79f",
   "metadata": {},
   "outputs": [
    {
     "name": "stdout",
     "output_type": "stream",
     "text": [
      "The original string is :  Hello World\n",
      "Uppercase characters are :  ['H', 'W']\n"
     ]
    }
   ],
   "source": [
    "test = \"Hello World\"\n",
    " \n",
    "print(\"The original string is : \",test)\n",
    "ups = [char for char in test if char.isupper()]\n",
    "print(\"Uppercase characters are : \",ups)\n"
   ]
  },
  {
   "cell_type": "markdown",
   "id": "4c5e4e8d",
   "metadata": {},
   "source": [
    "2. Write a program to construct a dictionary from the two lists containing the names of students and\n",
    "their corresponding subjects. The dictionary should map the students with their respective subjects.\n",
    "Let’s see how to do this using for loops and dictionary comprehension.\n",
    "HINT - Use Zip function also\n",
    "Sample input: students = ['Smit', 'Jaya', 'Rayyan'] subjects = ['CSE', 'Networking', 'Operating System']\n",
    "Expected output: {‘Smit’ : ’CSE’ , ’Jaya’ : ’Networking’ , ’Rayyan’ : ’Operating System’}"
   ]
  },
  {
   "cell_type": "code",
   "execution_count": 12,
   "id": "bcaa5bf6",
   "metadata": {},
   "outputs": [
    {
     "name": "stdout",
     "output_type": "stream",
     "text": [
      "Dictionary  : {'Smit': 'CSE', 'Jaya': 'Networking', 'Rayyan': 'Operating System'}\n"
     ]
    }
   ],
   "source": [
    "students = ['Smit', 'Jaya', 'Rayyan']\n",
    "subjects = ['CSE', 'Networking', 'Operating System']\n",
    " \n",
    "new_dict = dict(zip(students,subjects))\n",
    " \n",
    "# Printing resultant dictionary\n",
    "print(\"Dictionary  : \" + str(new_dict))"
   ]
  },
  {
   "cell_type": "markdown",
   "id": "82f804f2",
   "metadata": {},
   "source": [
    "3. Learn More about Yield, next and Generators"
   ]
  },
  {
   "cell_type": "markdown",
   "id": "4aac3f47",
   "metadata": {},
   "source": [
    "Write a program in Python using generators to reverse the string.\n",
    "Input String = “Consultadd Training”"
   ]
  },
  {
   "cell_type": "code",
   "execution_count": 13,
   "id": "d57a79a5",
   "metadata": {},
   "outputs": [
    {
     "name": "stdout",
     "output_type": "stream",
     "text": [
      "g\n",
      "n\n",
      "i\n",
      "n\n",
      "i\n",
      "a\n",
      "r\n",
      "T\n",
      " \n",
      "d\n",
      "d\n",
      "a\n",
      "t\n",
      "l\n",
      "u\n",
      "s\n",
      "n\n",
      "o\n",
      "C\n"
     ]
    }
   ],
   "source": [
    "def reverse_string(my_str):\n",
    "    length = len(my_str)\n",
    "    for i in range(length-1, -1, -1):\n",
    "        yield my_str[i]\n",
    "\n",
    "for char in reverse_string(\"Consultadd Training\"):\n",
    "    print(char)"
   ]
  },
  {
   "cell_type": "markdown",
   "id": "f332aa63",
   "metadata": {},
   "source": [
    "5. Write an example on decorators."
   ]
  },
  {
   "cell_type": "code",
   "execution_count": 8,
   "id": "dcc93d57",
   "metadata": {},
   "outputs": [
    {
     "data": {
      "text/plain": [
       "'HELLO THERE'"
      ]
     },
     "execution_count": 8,
     "metadata": {},
     "output_type": "execute_result"
    }
   ],
   "source": [
    "def uppercase_decorator(function):\n",
    "    def wrapper():\n",
    "        func = function()\n",
    "        make_uppercase = func.upper()\n",
    "        return make_uppercase\n",
    "\n",
    "    return wrapper\n",
    "\n",
    "@uppercase_decorator\n",
    "def say_hi():\n",
    "    return 'hello there'\n",
    "\n",
    "say_hi()\n"
   ]
  },
  {
   "cell_type": "code",
   "execution_count": null,
   "id": "72bdd590",
   "metadata": {},
   "outputs": [],
   "source": []
  }
 ],
 "metadata": {
  "kernelspec": {
   "display_name": "Python 3",
   "language": "python",
   "name": "python3"
  },
  "language_info": {
   "codemirror_mode": {
    "name": "ipython",
    "version": 3
   },
   "file_extension": ".py",
   "mimetype": "text/x-python",
   "name": "python",
   "nbconvert_exporter": "python",
   "pygments_lexer": "ipython3",
   "version": "3.8.8"
  }
 },
 "nbformat": 4,
 "nbformat_minor": 5
}
