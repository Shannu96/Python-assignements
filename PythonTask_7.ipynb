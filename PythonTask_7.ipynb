{
 "cells": [
  {
   "cell_type": "markdown",
   "id": "4d6185af",
   "metadata": {},
   "source": [
    "1. Write a program that calculates and prints the value according to the given formula:\n",
    "Q= Square root of [(2*C*D)/H]\n",
    "Following are the fixed values of C and H:\n",
    "C is 50.\n",
    "H is 30.\n",
    "D is a variable whose values should be input to your program in a comma-separated sequence."
   ]
  },
  {
   "cell_type": "code",
   "execution_count": null,
   "id": "95df4b2d",
   "metadata": {},
   "outputs": [],
   "source": [
    "import math\n",
    "\n",
    "C = 50\n",
    "H = 30\n",
    "numbers = input(\"Enter value for D: \")\n",
    "numbers = numbers.split(',')\n",
    "\n",
    "result_list = []\n",
    "for D in numbers:\n",
    "    Q = round(math.sqrt(2 * C * int(D) / H))\n",
    "    result_list.append(Q)\n",
    "\n",
    "print(result_list)"
   ]
  },
  {
   "cell_type": "markdown",
   "id": "135ec90f",
   "metadata": {},
   "source": [
    "2. Define a class named Shape and its subclass Square. The Square class has an init function which\n",
    "takes length as argument. Both classes have an area function which can print the area of the shape\n",
    "where Shape’s area is 0 by default."
   ]
  },
  {
   "cell_type": "code",
   "execution_count": null,
   "id": "6f25c276",
   "metadata": {},
   "outputs": [],
   "source": [
    "class Shape(object):\n",
    "    def __init__(self):\n",
    "        pass\n",
    "\n",
    "    def area(self):\n",
    "        return 0\n",
    "\n",
    "class Square(Shape):\n",
    "    def __init__(self, l):\n",
    "        Shape.__init__(self)\n",
    "        self.length = l\n",
    "\n",
    "    def area(self):\n",
    "        return self.length*self.length\n",
    "\n",
    "aSquare= Square(3)\n",
    "print aSquare.area()"
   ]
  },
  {
   "cell_type": "markdown",
   "id": "28016802",
   "metadata": {},
   "source": [
    "3. Create a class to find three elements that sum to zero from a set of n real numbers\n",
    "Input array: [-25,-10,-7,-3,2,4,8,10]\n",
    "Expected output: [[-10,2,8],[-7,-3,10]]"
   ]
  },
  {
   "cell_type": "code",
   "execution_count": null,
   "id": "a8deff52",
   "metadata": {},
   "outputs": [],
   "source": [
    "class solution:\n",
    "    def threeSum(self, nums):\n",
    "        nums, result, i = sorted(nums), [], 0\n",
    "        while i < len(nums) - 2:\n",
    "            j, k = i + 1, len(nums) - 1\n",
    "            while j < k:\n",
    "                if nums[i] + nums[j] + nums[k] < 0:\n",
    "                    j += 1\n",
    "                elif nums[i] + nums[j] + nums[k] > 0:\n",
    "                    k -= 1\n",
    "                else:\n",
    "                    result.append([nums[i], nums[j], nums[k]])\n",
    "                    j, k = j + 1, k - 1\n",
    "                    while j < k and nums[j] == nums[j - 1]:\n",
    "                        j += 1\n",
    "                    while j < k and nums[k] == nums[k + 1]:\n",
    "                        k -= 1\n",
    "            i += 1\n",
    "            while i < len(nums) - 2 and nums[i] == nums[i - 1]:\n",
    "                i += 1\n",
    "        return result\n",
    "\n",
    "print(solution().threeSum([-25, -10, -7, -3, 2, 4, 8, 10]))\n"
   ]
  },
  {
   "cell_type": "markdown",
   "id": "822e9849",
   "metadata": {},
   "source": [
    "4. Create a Time class and initialize it with hours and minutes.\n",
    "Create a method addTime which should take two Time objects and add them.\n",
    "E.g.- (2 hour and 50 min)+(1 hr and 20 min) is (4 hr and 10 min)\n",
    "Create another method displayTime which should print the time.\n",
    "Also create a method displayMinute which should display the total minutes in the Time.\n",
    "E.g.- (1 hr 2 min) should display 62 minute."
   ]
  },
  {
   "cell_type": "code",
   "execution_count": null,
   "id": "36e59276",
   "metadata": {},
   "outputs": [],
   "source": [
    "class Time():\n",
    "\n",
    "    def __init__(self,hr,min):\n",
    "        self.hrs = hr\n",
    "        self.mins = min\n",
    "\n",
    "    def addTime(self,aTime):\n",
    "        mins = self.hrs*60 + aTime.hrs*60 + self.mins+aTime.mins\n",
    "\n",
    "        return Time(mins//60,mins%60)\n",
    "\n",
    "\n",
    "    def displayTime(self):\n",
    "        print('{} hr {} mins'.format(self.hrs,self.mins))\n",
    "\n",
    "    def displayMinute(self):\n",
    "        print('{} minutes'.format(self.hrs*60+self.mins))\n",
    "\n",
    "t1 = Time(2,50)\n",
    "t2 = Time(1,20)\n",
    "t3 = t1.addTime(t2)\n",
    "t3.displayTime()\n",
    "t3.displayMinute()"
   ]
  },
  {
   "cell_type": "markdown",
   "id": "c1aca9fb",
   "metadata": {},
   "source": [
    "5. Write a Person class with an instance variable “age” and a constructor that takes an integer as a\n",
    "parameter. The constructor must assign the integer value to the age variable after confirming the\n",
    "argument passed is not negative; if a negative argument is passed then the constructor should set\n",
    "age to 0 and print “Age is not valid, setting age to 0”. In addition, you must write the following instance\n",
    "methods:\n",
    "    \n",
    "    yearPasses() should increase age by the integer value that you are passing inside the function.\n",
    "amIOld() should perform the following conditional actions:I\n",
    "f age is between 0 and <13, print “You are young”.\n",
    "If age is >=13 and <=19 , print “You are a teenager”.\n",
    "Otherwise, print “You are old”.\n",
    "5. Write a Person class with an instance variable “age” and a constructor that takes an integer as a\n",
    "parameter. The constructor must assign the integer value to the age variable after confirming the\n",
    "argument passed is not negative; if a negative argument is passed then the constructor should set\n",
    "age to 0 and print “Age is not valid, setting age to 0”. In addition, you must write the following instance\n",
    "methods:\n",
    "\n",
    "Sample Input for amIOld():"
   ]
  },
  {
   "cell_type": "code",
   "execution_count": null,
   "id": "40a4157e",
   "metadata": {},
   "outputs": [],
   "source": [
    "class person:\n",
    "    def __init__(self,a):\n",
    "        self.age=a\n",
    "        if self.age<0:\n",
    "            self.age=0\n",
    "            print(\"Age is not valid\")\n",
    "    def yearPasses(self,i):\n",
    "        self.age+=i\n",
    "        print(\"Current age :\",self.age)\n",
    "    def amiold(self):\n",
    "        if self.age>0 and self.age <13:\n",
    "            print(\"You are young\")\n",
    "        elif self.age>=13 and self.age<=19:\n",
    "            print(\"You are teenager\")\n",
    "        else:\n",
    "            print(\"You are old\")\n",
    "            \n",
    "p=person(11)\n",
    "p.yearPasses(4)\n",
    "p.amiold()"
   ]
  },
  {
   "cell_type": "code",
   "execution_count": null,
   "id": "b5f13fa6",
   "metadata": {},
   "outputs": [],
   "source": []
  },
  {
   "cell_type": "code",
   "execution_count": null,
   "id": "1233c43e",
   "metadata": {},
   "outputs": [],
   "source": []
  },
  {
   "cell_type": "code",
   "execution_count": null,
   "id": "bee64782",
   "metadata": {},
   "outputs": [],
   "source": []
  }
 ],
 "metadata": {
  "kernelspec": {
   "display_name": "Python 3",
   "language": "python",
   "name": "python3"
  },
  "language_info": {
   "codemirror_mode": {
    "name": "ipython",
    "version": 3
   },
   "file_extension": ".py",
   "mimetype": "text/x-python",
   "name": "python",
   "nbconvert_exporter": "python",
   "pygments_lexer": "ipython3",
   "version": "3.8.8"
  }
 },
 "nbformat": 4,
 "nbformat_minor": 5
}
