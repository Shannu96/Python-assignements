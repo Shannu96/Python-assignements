{
 "cells": [
  {
   "cell_type": "markdown",
   "id": "a1230cdd",
   "metadata": {},
   "source": [
    "1. Create three variables in a single line and assign values to them in such a manner that each one of\n",
    "them belongs to a different data type."
   ]
  },
  {
   "cell_type": "code",
   "execution_count": 6,
   "id": "7cef9621",
   "metadata": {},
   "outputs": [
    {
     "name": "stdout",
     "output_type": "stream",
     "text": [
      "<class 'int'> <class 'float'> <class 'str'>\n"
     ]
    }
   ],
   "source": [
    "a, b, c = 1, 2.01, \"string\"\n",
    "\n",
    "print(type(a), type(b), type(c))"
   ]
  },
  {
   "cell_type": "markdown",
   "id": "72595e6d",
   "metadata": {},
   "source": [
    "2. Create a variable of type complex and swap it with another variable of type integer."
   ]
  },
  {
   "cell_type": "code",
   "execution_count": 15,
   "id": "9b75217c",
   "metadata": {},
   "outputs": [
    {
     "name": "stdout",
     "output_type": "stream",
     "text": [
      "3 <class 'int'>\n",
      "(4+5j)\n"
     ]
    }
   ],
   "source": [
    "a=2+3j\n",
    "b=0\n",
    "#before swap , b-type is integer\n",
    "print(b, type(b))\n",
    "b=a\n",
    "#after swap , b-type is integer\n",
    "print(b, type(b))"
   ]
  },
  {
   "cell_type": "markdown",
   "id": "c70dc038",
   "metadata": {},
   "source": [
    "3. Swap two numbers using a third variable and do the same task without using any third variable."
   ]
  },
  {
   "cell_type": "code",
   "execution_count": 21,
   "id": "4a47872b",
   "metadata": {},
   "outputs": [
    {
     "name": "stdout",
     "output_type": "stream",
     "text": [
      "3 (4+5j)\n",
      "6 (2+3j)\n"
     ]
    }
   ],
   "source": [
    "#Swap with third variable :\n",
    "a = 4+5j\n",
    "b = 3\n",
    "temp = 0\n",
    "#swapping\n",
    "temp = a\n",
    "a = b\n",
    "b = temp\n",
    "print(a,b)\n",
    "\n",
    "#Swap without third variable :\n",
    "a=2+3j\n",
    "b=6\n",
    "#swapping\n",
    "a, b = b, a\n",
    "print(a, b)\n"
   ]
  },
  {
   "cell_type": "markdown",
   "id": "c2b4ca45",
   "metadata": {},
   "source": [
    "5. Write a program to complete the task given below:\n",
    "Ask users to enter any 2 numbers in between 1-10 , add the two numbers and keep the sum in\n",
    "another variable called z. Add 30 to z and store the output in variable result and print result as the\n",
    "final output."
   ]
  },
  {
   "cell_type": "code",
   "execution_count": 29,
   "id": "6bb49950",
   "metadata": {},
   "outputs": [
    {
     "name": "stdout",
     "output_type": "stream",
     "text": [
      "Enter any two numbers between 1-105\n",
      "Enter any two numbers between 1-104\n",
      "39\n"
     ]
    }
   ],
   "source": [
    "a = int(input(\"Enter any two numbers between 1-10\"))\n",
    "b = int(input(\"Enter any two numbers between 1-10\"))\n",
    "result = 0\n",
    "\n",
    "z = a + b\n",
    "result = z + 30\n",
    "\n",
    "print(result)"
   ]
  },
  {
   "cell_type": "markdown",
   "id": "3085b0a4",
   "metadata": {},
   "source": [
    "6. Write a program to check the data type of the entered values.\n",
    "HINT: Printed output should say - The data type of the input value is : int/float/string/etc"
   ]
  },
  {
   "cell_type": "code",
   "execution_count": 33,
   "id": "fd096eee",
   "metadata": {},
   "outputs": [
    {
     "name": "stdout",
     "output_type": "stream",
     "text": [
      "Enter any value 5\n",
      "Enter any value go\n",
      "The data type of the input value is :  <class 'str'>\n",
      "The data type of the input value is :  <class 'str'>\n"
     ]
    }
   ],
   "source": [
    "a = input(\"Enter any value\")\n",
    "b = input(\"Enter any value\")\n",
    "\n",
    "print(\"The data type of the input value is : \" ,type(a)) #Python considers it as string unless we type cast to int\n",
    "print(\"The data type of the input value is : \" ,type(b))"
   ]
  },
  {
   "cell_type": "markdown",
   "id": "31c9b7b1",
   "metadata": {},
   "source": [
    "7. Create Variables using formats such as Upper CamelCase, Lower CamelCase, SnakeCase and\n",
    "UPPERCASE."
   ]
  },
  {
   "cell_type": "code",
   "execution_count": 39,
   "id": "4f03636c",
   "metadata": {},
   "outputs": [
    {
     "name": "stdout",
     "output_type": "stream",
     "text": [
      "hello_world\n",
      "HELLOWORLD\n",
      "helloworld\n"
     ]
    }
   ],
   "source": [
    "from re import sub\n",
    "\n",
    "word = \"HelloWorld\"\n",
    "\n",
    "def snake_case(word):\n",
    "    return '_'.join(\n",
    "    sub('([A-Z][a-z]+)', r' \\1',\n",
    "    sub('([A-Z]+)', r' \\1',\n",
    "    word.replace('-', ' '))).split()).lower()\n",
    "\n",
    "print(snake_case(word))\n",
    "print(word.upper())\n",
    "print(word.lower())\n"
   ]
  },
  {
   "cell_type": "markdown",
   "id": "aa37dfed",
   "metadata": {},
   "source": [
    "8. If one data type value is assigned to ‘a’ variable and then a different data type value is assigned to ‘a’\n",
    "again. Will it change the value? If Yes then Why?"
   ]
  },
  {
   "cell_type": "code",
   "execution_count": 41,
   "id": "bbf65e56",
   "metadata": {},
   "outputs": [
    {
     "name": "stdout",
     "output_type": "stream",
     "text": [
      "(3+4j)\n"
     ]
    }
   ],
   "source": [
    "a = 4.5\n",
    "b = 3+4j\n",
    "\n",
    "a=b\n",
    "print(a)\n",
    "\n",
    "#Yes , Python has the option to type cast any variable and also the variable is not a constant variable so hence it is able \n",
    "#hange its datatype.\n"
   ]
  }
 ],
 "metadata": {
  "kernelspec": {
   "display_name": "Python 3",
   "language": "python",
   "name": "python3"
  },
  "language_info": {
   "codemirror_mode": {
    "name": "ipython",
    "version": 3
   },
   "file_extension": ".py",
   "mimetype": "text/x-python",
   "name": "python",
   "nbconvert_exporter": "python",
   "pygments_lexer": "ipython3",
   "version": "3.8.8"
  }
 },
 "nbformat": 4,
 "nbformat_minor": 5
}
