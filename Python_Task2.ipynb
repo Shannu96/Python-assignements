{
 "cells": [
  {
   "cell_type": "markdown",
   "id": "47834717",
   "metadata": {},
   "source": [
    "1.Write a program in Python to perform the following operation:\n",
    "If a number is divisible by 3 it should print “Consultadd” as a string\n",
    "If a number is divisible by 5 it should print “Python Training” as a string\n",
    "If a number is divisible by both 3 and 5 it should print “Consultadd - Python Training” as a\n",
    "string."
   ]
  },
  {
   "cell_type": "code",
   "execution_count": 10,
   "id": "7289446f",
   "metadata": {},
   "outputs": [
    {
     "name": "stdout",
     "output_type": "stream",
     "text": [
      "enter the number33\n",
      "Consultadd\n"
     ]
    }
   ],
   "source": [
    "num = int(input(\"enter the number\"))\n",
    "          \n",
    "if (num%3 == 0):\n",
    "    print(\"Consultadd\")\n",
    "elif(num%5 == 0):\n",
    "    print(\"Python Training\")\n",
    "elif(num%3==0 and num%5==0) :\n",
    "    print(\"Consultadd - Python Training\")\n",
    "else:\n",
    "    print(\"Try again\")\n",
    "          \n",
    "          \n",
    "          "
   ]
  },
  {
   "cell_type": "markdown",
   "id": "c8b0c8fb",
   "metadata": {},
   "source": [
    "2. Write a program in Python to perform the following operator based task\n",
    "Ask user to choose the following option first:\n",
    "If User Enter 1 - Addition\n",
    "If User Enter 2 - Subtraction\n",
    "If User Enter 3 - Division\n",
    "If User Enter 4 - Multiplication\n",
    "If User Enter 5 - Average\n",
    "Ask user to enter two numbers and keep those numbers in variables num1 and num2\n",
    "respectively for the first 4 options mentioned above.\n",
    "Ask the user to enter two more numbers as first and second for calculating the average as\n",
    "soon as the user chooses an option 5.\n",
    "At the end if the answer of any operation is Negative print a statement saying “NEGATIVE”\n",
    "NOTE: At a time a user can only perform one action.\n"
   ]
  },
  {
   "cell_type": "code",
   "execution_count": 16,
   "id": "fcdb5a33",
   "metadata": {},
   "outputs": [
    {
     "name": "stdout",
     "output_type": "stream",
     "text": [
      "Select operation.\n",
      "1.Addition\n",
      "2.Subtraction\n",
      "3.Division\n",
      "4.Multiplication\n",
      "5.Average\n",
      "Enter choice(1/2/3/4/5): 5\n",
      "Enter first number: 3\n",
      "Enter second number: 4\n",
      "enter a number5\n",
      "enter a number6\n",
      "Average 13.5\n",
      "Let's do next calculation? (yes/no): no\n"
     ]
    }
   ],
   "source": [
    "\n",
    "# This function adds two numbers\n",
    "def add(x, y):\n",
    "    sum =  x + y\n",
    "    return sum\n",
    "    if sum < 0:\n",
    "        print(\"Negative\")\n",
    "\n",
    "# This function subtracts two numbers\n",
    "def subtract(x, y):\n",
    "    diff = x - y\n",
    "    return diff\n",
    "    if diff < 0:\n",
    "        print(\"Negative\")\n",
    "\n",
    "\n",
    "# This function multiplies two numbers\n",
    "def multiply(x, y):\n",
    "    product = x * y\n",
    "    return product\n",
    "    if product < 0:\n",
    "        print(\"Negative\")\n",
    "\n",
    "# This function divides two numbers\n",
    "def divide(x, y):\n",
    "    quotient =  x / y\n",
    "    return quotient\n",
    "    if quotient < 0:\n",
    "        print(\"Negative\")\n",
    "\n",
    "def avg(x,y):\n",
    "    w = int(input(\"enter a number\"))\n",
    "    z = int(input(\"enter a number\"))\n",
    "    result = x + y + w + z/4\n",
    "    return result\n",
    "    if result < 0:\n",
    "        print(\"Negative\")\n",
    "\n",
    "\n",
    "print(\"Select operation.\")\n",
    "print(\"1.Addition\")\n",
    "print(\"2.Subtraction\")\n",
    "print(\"3.Division\")\n",
    "print(\"4.Multiplication\")\n",
    "print(\"5.Average\")\n",
    "\n",
    "while True:\n",
    "    # take input from the user\n",
    "    choice = input(\"Enter choice(1/2/3/4/5): \")\n",
    "\n",
    "    # check if choice is one of the four options\n",
    "    if choice in ('1', '2', '3', '4','5'):\n",
    "        try:\n",
    "            num1 = int(input(\"Enter first number: \"))\n",
    "            num2 = int(input(\"Enter second number: \"))\n",
    "        except ValueError:\n",
    "            print(\"Invalid input. Please enter a number.\")\n",
    "            continue\n",
    "\n",
    "        if choice == '1':\n",
    "            print(num1, \"+\", num2, \"=\", add(num1, num2))\n",
    "\n",
    "        elif choice == '2':\n",
    "            print(num1, \"-\", num2, \"=\", subtract(num1, num2))\n",
    "\n",
    "        elif choice == '3':\n",
    "            print(num1, \"/\", num2, \"=\", divide(num1, num2))\n",
    "            \n",
    "        elif choice == '4':\n",
    "            print(num1, \"*\", num2, \"=\", multiply(num1, num2))\n",
    "        \n",
    "        elif choice == '5':\n",
    "            print(\"Average\" ,avg(num1,num2))\n",
    "        \n",
    "        # check if user wants another calculation\n",
    "        # break the while loop if answer is no\n",
    "        next_calculation = input(\"Let's do next calculation? (yes/no): \")\n",
    "        if next_calculation == \"no\":\n",
    "          break\n",
    "    else:\n",
    "        print(\"Invalid Input\")"
   ]
  },
  {
   "cell_type": "markdown",
   "id": "962d21b5",
   "metadata": {},
   "source": [
    "3.Write a program in Python to implement the given flowchart:"
   ]
  },
  {
   "cell_type": "code",
   "execution_count": 48,
   "id": "df49f823",
   "metadata": {},
   "outputs": [
    {
     "name": "stdout",
     "output_type": "stream",
     "text": [
      "avg = 20.0\n",
      "avg is just higher than a\n"
     ]
    }
   ],
   "source": [
    "a = 10\n",
    "b = 20\n",
    "c = 30\n",
    "avg = (a+b+c)/3\n",
    "print(\"avg =\", avg)\n",
    "\n",
    "if(avg>a and avg>b and avg>c):\n",
    "    print(\"avg is higher than a, b, c\")\n",
    "else:\n",
    "    if(avg>a and avg>b):\n",
    "        print(\"avg is higher than a, b, c\")\n",
    "    elif(avg>a and avg>c):\n",
    "        print(\"avg is higher than a , c\")\n",
    "    elif(avg>b and avg>c):\n",
    "        print(\"avg is higher than b, c\")\n",
    "    elif(avg>a):\n",
    "        print(\"avg is just higher than a\")\n",
    "    elif(avg>b):\n",
    "        print(\"avg is just higher than b\")\n",
    "    elif(avg>c):\n",
    "        print(\"avg is just higher than c\")\n",
    "    else:\n",
    "        print(\"Try again\")\n",
    "        "
   ]
  },
  {
   "cell_type": "markdown",
   "id": "7c398281",
   "metadata": {},
   "source": [
    "4. Write a program in Python to break and continue if the following cases occurs:\n",
    "If user enters a negative number just break the loop and print “It’s Over”\n",
    "If user enters a positive number just continue in the loop and print “Good Going”"
   ]
  },
  {
   "cell_type": "code",
   "execution_count": null,
   "id": "f0606a25",
   "metadata": {},
   "outputs": [],
   "source": [
    "i = int(input(\"Enter a number\"))\n",
    "\n",
    "for i in range(2):\n",
    "    if i < 0:\n",
    "        break\n",
    "        print(\"Its Over\")\n",
    "    if i > 0:\n",
    "        print(\"Good Going\")\n",
    "        continue\n",
    "    "
   ]
  },
  {
   "cell_type": "markdown",
   "id": "c2e603c7",
   "metadata": {},
   "source": [
    "5. Write a program in Python which will find all such numbers which are divisible by 7 but are not a\n",
    "multiple of 5, between 2000 and 3200\n"
   ]
  },
  {
   "cell_type": "code",
   "execution_count": 28,
   "id": "35b896d7",
   "metadata": {},
   "outputs": [
    {
     "name": "stdout",
     "output_type": "stream",
     "text": [
      "Numbers :  2002\n",
      "Numbers :  2009\n",
      "Numbers :  2016\n",
      "Numbers :  2023\n",
      "Numbers :  2037\n",
      "Numbers :  2044\n",
      "Numbers :  2051\n",
      "Numbers :  2058\n",
      "Numbers :  2072\n",
      "Numbers :  2079\n",
      "Numbers :  2086\n",
      "Numbers :  2093\n",
      "Numbers :  2107\n",
      "Numbers :  2114\n",
      "Numbers :  2121\n",
      "Numbers :  2128\n",
      "Numbers :  2142\n",
      "Numbers :  2149\n",
      "Numbers :  2156\n",
      "Numbers :  2163\n",
      "Numbers :  2177\n",
      "Numbers :  2184\n",
      "Numbers :  2191\n",
      "Numbers :  2198\n",
      "Numbers :  2212\n",
      "Numbers :  2219\n",
      "Numbers :  2226\n",
      "Numbers :  2233\n",
      "Numbers :  2247\n",
      "Numbers :  2254\n",
      "Numbers :  2261\n",
      "Numbers :  2268\n",
      "Numbers :  2282\n",
      "Numbers :  2289\n",
      "Numbers :  2296\n",
      "Numbers :  2303\n",
      "Numbers :  2317\n",
      "Numbers :  2324\n",
      "Numbers :  2331\n",
      "Numbers :  2338\n",
      "Numbers :  2352\n",
      "Numbers :  2359\n",
      "Numbers :  2366\n",
      "Numbers :  2373\n",
      "Numbers :  2387\n",
      "Numbers :  2394\n",
      "Numbers :  2401\n",
      "Numbers :  2408\n",
      "Numbers :  2422\n",
      "Numbers :  2429\n",
      "Numbers :  2436\n",
      "Numbers :  2443\n",
      "Numbers :  2457\n",
      "Numbers :  2464\n",
      "Numbers :  2471\n",
      "Numbers :  2478\n",
      "Numbers :  2492\n",
      "Numbers :  2499\n",
      "Numbers :  2506\n",
      "Numbers :  2513\n",
      "Numbers :  2527\n",
      "Numbers :  2534\n",
      "Numbers :  2541\n",
      "Numbers :  2548\n",
      "Numbers :  2562\n",
      "Numbers :  2569\n",
      "Numbers :  2576\n",
      "Numbers :  2583\n",
      "Numbers :  2597\n",
      "Numbers :  2604\n",
      "Numbers :  2611\n",
      "Numbers :  2618\n",
      "Numbers :  2632\n",
      "Numbers :  2639\n",
      "Numbers :  2646\n",
      "Numbers :  2653\n",
      "Numbers :  2667\n",
      "Numbers :  2674\n",
      "Numbers :  2681\n",
      "Numbers :  2688\n",
      "Numbers :  2702\n",
      "Numbers :  2709\n",
      "Numbers :  2716\n",
      "Numbers :  2723\n",
      "Numbers :  2737\n",
      "Numbers :  2744\n",
      "Numbers :  2751\n",
      "Numbers :  2758\n",
      "Numbers :  2772\n",
      "Numbers :  2779\n",
      "Numbers :  2786\n",
      "Numbers :  2793\n",
      "Numbers :  2807\n",
      "Numbers :  2814\n",
      "Numbers :  2821\n",
      "Numbers :  2828\n",
      "Numbers :  2842\n",
      "Numbers :  2849\n",
      "Numbers :  2856\n",
      "Numbers :  2863\n",
      "Numbers :  2877\n",
      "Numbers :  2884\n",
      "Numbers :  2891\n",
      "Numbers :  2898\n",
      "Numbers :  2912\n",
      "Numbers :  2919\n",
      "Numbers :  2926\n",
      "Numbers :  2933\n",
      "Numbers :  2947\n",
      "Numbers :  2954\n",
      "Numbers :  2961\n",
      "Numbers :  2968\n",
      "Numbers :  2982\n",
      "Numbers :  2989\n",
      "Numbers :  2996\n",
      "Numbers :  3003\n",
      "Numbers :  3017\n",
      "Numbers :  3024\n",
      "Numbers :  3031\n",
      "Numbers :  3038\n",
      "Numbers :  3052\n",
      "Numbers :  3059\n",
      "Numbers :  3066\n",
      "Numbers :  3073\n",
      "Numbers :  3087\n",
      "Numbers :  3094\n",
      "Numbers :  3101\n",
      "Numbers :  3108\n",
      "Numbers :  3122\n",
      "Numbers :  3129\n",
      "Numbers :  3136\n",
      "Numbers :  3143\n",
      "Numbers :  3157\n",
      "Numbers :  3164\n",
      "Numbers :  3171\n",
      "Numbers :  3178\n",
      "Numbers :  3192\n",
      "Numbers :  3199\n"
     ]
    }
   ],
   "source": [
    "for i in range(2000, 3200, 1):\n",
    "    if (i%7 == 0 and not i %5==0):\n",
    "        print(\"Numbers : \", i)"
   ]
  },
  {
   "cell_type": "markdown",
   "id": "64a27f5c",
   "metadata": {},
   "source": [
    "6. What is the output of the following code examples?"
   ]
  },
  {
   "cell_type": "code",
   "execution_count": 42,
   "id": "619e1643",
   "metadata": {},
   "outputs": [
    {
     "ename": "TypeError",
     "evalue": "'int' object is not iterable",
     "output_type": "error",
     "traceback": [
      "\u001b[1;31m---------------------------------------------------------------------------\u001b[0m",
      "\u001b[1;31mTypeError\u001b[0m                                 Traceback (most recent call last)",
      "\u001b[1;32m<ipython-input-42-973acc5bb27a>\u001b[0m in \u001b[0;36m<module>\u001b[1;34m\u001b[0m\n\u001b[0;32m      1\u001b[0m \u001b[0mx\u001b[0m\u001b[1;33m=\u001b[0m\u001b[1;36m123\u001b[0m\u001b[1;33m\u001b[0m\u001b[1;33m\u001b[0m\u001b[0m\n\u001b[1;32m----> 2\u001b[1;33m \u001b[1;32mfor\u001b[0m \u001b[0mi\u001b[0m \u001b[1;32min\u001b[0m \u001b[0mx\u001b[0m\u001b[1;33m:\u001b[0m\u001b[1;33m\u001b[0m\u001b[1;33m\u001b[0m\u001b[0m\n\u001b[0m\u001b[0;32m      3\u001b[0m     \u001b[0mprint\u001b[0m\u001b[1;33m(\u001b[0m\u001b[0mi\u001b[0m\u001b[1;33m)\u001b[0m\u001b[1;33m\u001b[0m\u001b[1;33m\u001b[0m\u001b[0m\n\u001b[0;32m      4\u001b[0m \u001b[1;33m\u001b[0m\u001b[0m\n",
      "\u001b[1;31mTypeError\u001b[0m: 'int' object is not iterable"
     ]
    }
   ],
   "source": [
    "x=123 \n",
    "for i in x: \n",
    "    print(i)\n",
    "\n"
   ]
  },
  {
   "cell_type": "markdown",
   "id": "64bf1638",
   "metadata": {},
   "source": [
    "Output - Error detected"
   ]
  },
  {
   "cell_type": "code",
   "execution_count": 43,
   "id": "4adad675",
   "metadata": {},
   "outputs": [
    {
     "ename": "SyntaxError",
     "evalue": "invalid character in identifier (<ipython-input-43-2a21c5885543>, line 8)",
     "output_type": "error",
     "traceback": [
      "\u001b[1;36m  File \u001b[1;32m\"<ipython-input-43-2a21c5885543>\"\u001b[1;36m, line \u001b[1;32m8\u001b[0m\n\u001b[1;33m    print(“error”)\u001b[0m\n\u001b[1;37m                ^\u001b[0m\n\u001b[1;31mSyntaxError\u001b[0m\u001b[1;31m:\u001b[0m invalid character in identifier\n"
     ]
    }
   ],
   "source": [
    "i=0\n",
    "while i < 5: \n",
    "    print(i) \n",
    "    i += 1 \n",
    "    if i == 3: \n",
    "        break\n",
    "    else: \n",
    "        print(“error”)\n"
   ]
  },
  {
   "cell_type": "code",
   "execution_count": 45,
   "id": "234c3e15",
   "metadata": {},
   "outputs": [
    {
     "name": "stdout",
     "output_type": "stream",
     "text": [
      "0\n",
      "1\n",
      "2\n",
      "3\n",
      "4\n"
     ]
    }
   ],
   "source": [
    "count = 0\n",
    "while True: \n",
    "    print(count) \n",
    "    count += 1 \n",
    "    if count >= 5: \n",
    "        break\n"
   ]
  },
  {
   "cell_type": "markdown",
   "id": "c85a816a",
   "metadata": {},
   "source": [
    "7. Write a program that prints all the numbers from 0 to 6 except 3 and 6.\n",
    "Expected output: 0 1 2 4 5\n",
    "Note: Use ‘continue’ statement"
   ]
  },
  {
   "cell_type": "code",
   "execution_count": 32,
   "id": "aeed2fab",
   "metadata": {},
   "outputs": [
    {
     "name": "stdout",
     "output_type": "stream",
     "text": [
      "0\n",
      "1\n",
      "2\n"
     ]
    }
   ],
   "source": [
    "for i in range(7):\n",
    "    if i == 3 or i == 6:\n",
    "        continue\n",
    "    print(i)"
   ]
  },
  {
   "cell_type": "markdown",
   "id": "3af19b40",
   "metadata": {},
   "source": [
    "8. Write a program that accepts a string as an input from the user and calculate the number of digits\n",
    "and letters.\n",
    "Sample input: consul72\n",
    "Expected output: Letters 6 Digits 2"
   ]
  },
  {
   "cell_type": "code",
   "execution_count": 33,
   "id": "fa1ea68a",
   "metadata": {},
   "outputs": [
    {
     "name": "stdout",
     "output_type": "stream",
     "text": [
      "Enter the stringconsul72\n",
      "Digits  2\n",
      "Letters 6\n"
     ]
    }
   ],
   "source": [
    "string = input(\"Enter the string\")\n",
    "alpha = 0\n",
    "for i in string:\n",
    "    if (i.isalpha()):\n",
    "        alpha+=1\n",
    "print(\"Digits \", len(string)-alpha)\n",
    "print(\"Letters\", alpha)"
   ]
  },
  {
   "cell_type": "markdown",
   "id": "b46d3e14",
   "metadata": {},
   "source": [
    "9. Read the two parts of the question below:\n",
    "Write a program such that it asks users to “guess the lucky number”. If the correct number is\n",
    "guessed the program stops, otherwise it continues forever.\n",
    "Modify the program so that it asks users whether they want to guess again each time. Use two\n",
    "variables, ‘number’ for the number and ‘answer’ for the answer to the question whether they want\n",
    "to continue guessing. The program stops if the user guesses the correct number or answers “no”. (\n",
    "The program continues as long as a user has not answered “no” and has not guessed the correct\n",
    "number)\n"
   ]
  },
  {
   "cell_type": "code",
   "execution_count": null,
   "id": "937514dc",
   "metadata": {},
   "outputs": [],
   "source": [
    "import random\n",
    "n = random.randint(1,10)\n",
    "for i in range(0,3):\n",
    "    number = int(input(\"Guess the lucky number\"))\n",
    "    if number == n:\n",
    "        print(\"Hurray!!\")\n",
    "        print(f\"You guessed the number right, it's {number}\")\n",
    "        break\n",
    "if number != n:\n",
    "    print(f\"Your guess is incorrect, the number is {number}\")\n",
    "    answer = int(input(\"Let's do next calculation? (yes/no): \"))\n",
    "    if answer == \"no\":\n",
    "        break\n",
    "    "
   ]
  },
  {
   "cell_type": "markdown",
   "id": "bf433184",
   "metadata": {},
   "source": [
    "10. Write a program that asks five times to guess the lucky number. Use a while loop and a counter,\n",
    "such as\n",
    "While counter <= 5:\n",
    "print(“Type in the”, counter, “number”\n",
    "counter=counter+1\n",
    "The program asks for five guesses (no matter whether the correct number was guessed or not). If the\n",
    "correct number is guessed, the program outputs “Good guess!”, otherwise it outputs “Try again!”.\n",
    "After the fifth guess it stops and prints “Game over!”.\n"
   ]
  },
  {
   "cell_type": "code",
   "execution_count": null,
   "id": "61784681",
   "metadata": {},
   "outputs": [],
   "source": [
    "import random\n",
    "n = random.randint(1,10)\n",
    "counter =0\n",
    "while counter<=5:\n",
    "    print(\"Type in the\", counter, \"number\")\n",
    "    counter = counter +1\n",
    "    number = int(input(\"Guess the lucky number\"))\n",
    "    if number == n:\n",
    "        print(\"Good guess\")\n",
    "        break\n",
    "    if number != n:\n",
    "        print(\"Try Again\")\n",
    "        continue\n",
    "   \n",
    "    \n"
   ]
  },
  {
   "cell_type": "code",
   "execution_count": null,
   "id": "98a51d11",
   "metadata": {},
   "outputs": [],
   "source": []
  }
 ],
 "metadata": {
  "kernelspec": {
   "display_name": "Python 3",
   "language": "python",
   "name": "python3"
  },
  "language_info": {
   "codemirror_mode": {
    "name": "ipython",
    "version": 3
   },
   "file_extension": ".py",
   "mimetype": "text/x-python",
   "name": "python",
   "nbconvert_exporter": "python",
   "pygments_lexer": "ipython3",
   "version": "3.8.8"
  }
 },
 "nbformat": 4,
 "nbformat_minor": 5
}
